{
 "cells": [
  {
   "cell_type": "code",
   "execution_count": 14,
   "metadata": {},
   "outputs": [
    {
     "name": "stdout",
     "output_type": "stream",
     "text": [
      "233168\n"
     ]
    }
   ],
   "source": [
    "### 문제 1.\n",
    "# 10보다 작은 자연수 중에서 3또는5의 배수는\n",
    "# 3, 5, 6, 9.... 이것들의 합은 23입니다\n",
    "\n",
    "# 1000보다 작은 자연수 중에서 3또는 5의 배수들을 구해서 모두 합하면 답:233168\n",
    "\n",
    "result=0\n",
    "for k in range(1000):\n",
    "    if k%3 ==0 or k%5 ==0:\n",
    "        result= result +k\n",
    "    else:\n",
    "        pass\n",
    "print(result)\n"
   ]
  },
  {
   "cell_type": "code",
   "execution_count": 225,
   "metadata": {},
   "outputs": [
    {
     "name": "stdout",
     "output_type": "stream",
     "text": [
      "4613732\n",
      "4613732\n"
     ]
    }
   ],
   "source": [
    "### 문제 2.\n",
    "# 피보나치 수열의 각항은 바로 앞의 항 2개를 더한 것이 되요\n",
    "# 1,2,3,5,8,13,21,34...\n",
    "\n",
    "# 짝수이면서 4백만 이하인 모든 항을 더하면?\n",
    "bef_seq=0\n",
    "aft_seq=1\n",
    "seq=1\n",
    "even_seq_sum=0\n",
    "while seq <= 4000000:\n",
    "    bef_seq = aft_seq \n",
    "    aft_seq = seq\n",
    "    seq = bef_seq + aft_seq\n",
    "    if seq%2 == 0:\n",
    "        even_seq_sum = even_seq_sum + seq\n",
    "    else:\n",
    "        pass\n",
    "print(even_seq_sum)\n",
    "\n",
    "############################## 강사님 풀이#############################\n",
    "pb_seq = [1,2]\n",
    "sum=0\n",
    "while pb_seq[-1] <= 4000000:\n",
    "    k = pb_seq[-1] + pb_seq[-2]\n",
    "    pb_seq.append(k)\n",
    "for k in pb_seq:\n",
    "    if k%2 == 0:\n",
    "        sum=sum+k\n",
    "    else:\n",
    "        pass\n",
    "print(sum)"
   ]
  },
  {
   "cell_type": "code",
   "execution_count": 214,
   "metadata": {},
   "outputs": [
    {
     "name": "stdout",
     "output_type": "stream",
     "text": [
      "가장 많이 나온 문자는 i이고 7개 나왔다\n"
     ]
    }
   ],
   "source": [
    "### 문제3\n",
    "# 알파벳 대소문자로 되어 잇는 문자열이 주어져요.\n",
    "# 이 문자열에서 가장 많이 사용된 알파벳이 무엇인지 출력하는 프로그램\n",
    "# 단 대소문자 구별하지 않아요 만약 동률이 존재하면 알파벳 순서가 제일 앞에 잇는 알파벳을 출력\n",
    "# 공백은 제외\n",
    "\n",
    "# This is a sample Program mississippi river\n",
    "# abcdabcdabccddcd\n",
    "a=\"This is a sample Program mississippi river\"\n",
    "b = list(set(sorted(a.lower())) # 문자열 소트 하고 set로 해서 중복 뺴고 list로 만들기\n",
    "c = list()\n",
    "for i in b:\n",
    "    if i == \" \":\n",
    "        pass\n",
    "    else:\n",
    "        k = sorted(a.lower()).count(i)\n",
    "        c.append(k)\n",
    "d = c.index(max(c))\n",
    "print(\"가장 많이 나온 문자는 {0}이고 {1}개 나왔다\".format(b[d],max(c)))\n",
    "\n"
   ]
  },
  {
   "cell_type": "code",
   "execution_count": 19,
   "metadata": {},
   "outputs": [],
   "source": [
    "##문제 4:\n",
    "##로또 프로그램을 작성\n",
    "##5천원으로 로또복권 5장을 자동으로 구매\n",
    "##이번주 로또 당첨번호를 생성하여 구매한 로또가 당첨이 됐는지 확인\n",
    "##쉬운버전부터 해보자 => 보너스 번호가 없다\n",
    "## 1등 : 6개\n",
    "## 2등 : 5개\n",
    "## 3등 : 4개\n",
    "## 4등 : 3개\n",
    "\n",
    "## 5장의 로또번호가 몇등에 당첨되었는지 출력!!\n",
    "## 랜덤번호 추출은 다음의 코드를 이용\n",
    "import random\n",
    "#a = random.randint(1,10) # 1이상 10이하의 정수형 난수를 생성\n",
    "#print(a)\n"
   ]
  },
  {
   "cell_type": "code",
   "execution_count": 21,
   "metadata": {},
   "outputs": [
    {
     "name": "stdout",
     "output_type": "stream",
     "text": [
      "당첨번호 :  {1, 35, 39, 14, 16, 20}\n",
      "꽝\n",
      "게임번호 :  {2, 3, 40, 10, 18, 20}\n",
      "당첨번호 :  {1, 35, 39, 14, 16, 20}\n",
      "맞은 번호는 [20]입니다\n",
      "꽝\n",
      "게임번호 :  {2, 39, 41, 12, 26, 30}\n",
      "당첨번호 :  {1, 35, 39, 14, 16, 20}\n",
      "맞은 번호는 [39]입니다\n",
      "꽝\n",
      "게임번호 :  {33, 43, 17, 21, 24, 28}\n",
      "당첨번호 :  {1, 35, 39, 14, 16, 20}\n",
      "맞은 번호는 []입니다\n",
      "꽝\n",
      "게임번호 :  {33, 35, 38, 8, 41, 18}\n",
      "당첨번호 :  {1, 35, 39, 14, 16, 20}\n",
      "맞은 번호는 [35]입니다\n",
      "꽝\n",
      "게임번호 :  {33, 36, 6, 42, 44, 18}\n",
      "당첨번호 :  {1, 35, 39, 14, 16, 20}\n",
      "맞은 번호는 []입니다\n"
     ]
    }
   ],
   "source": [
    "lucky_num = set()\n",
    "while len(lucky_num) <6:\n",
    "    lucky_num.add(random.randint(1,45))\n",
    "# print(lotto_num)\n",
    "# print(type(list(lotto_num)))\n",
    "# print(list(lotto_num))\n",
    "print(\"당첨번호 : \",lucky_num)\n",
    "\n",
    "\n",
    "for i in range(5):\n",
    "    lotto = set()\n",
    "    while len(lotto) <6:\n",
    "        lotto.add(random.randint(1,45))\n",
    "    if len((lotto & lucky_num)) == 6:\n",
    "        print(\"1등!!!!!!!!!!!!!!!!!!!!!!!!!!!!!!!!!!!!!!!!!!\")\n",
    "    elif len((lotto & lucky_num)) == 5:\n",
    "        print(\"2등!!!!!!!!!!!!!!!!!\")\n",
    "    elif len((lotto & lucky_num)) == 4:\n",
    "        print(\"3등!!!!!!!!\")\n",
    "    elif len((lotto & lucky_num)) == 3:\n",
    "        print(\"4등!!!\")\n",
    "    else:\n",
    "        print(\"꽝\")\n",
    "    print(\"게임번호 : \",lotto)\n",
    "    print(\"당첨번호 : \",lucky_num)\n",
    "    print(\"맞은 번호는 {}입니다\".format(sorted(lotto & lucky_num)))\n",
    "    "
   ]
  },
  {
   "cell_type": "code",
   "execution_count": 22,
   "metadata": {},
   "outputs": [
    {
     "name": "stdout",
     "output_type": "stream",
     "text": [
      "꽝\n",
      "게임번호 :  {32, 38, 9, 15, 18, 31}\n",
      "당첨번호 :  {1, 35, 39, 14, 16, 20}\n",
      "맞은 번호는 []입니다\n",
      "꽝\n",
      "게임번호 :  {1, 2, 3, 33, 6, 18}\n",
      "당첨번호 :  {1, 35, 39, 14, 16, 20}\n",
      "맞은 번호는 [1]입니다\n",
      "꽝\n",
      "게임번호 :  {1, 36, 6, 7, 10, 44}\n",
      "당첨번호 :  {1, 35, 39, 14, 16, 20}\n",
      "맞은 번호는 [1]입니다\n",
      "꽝\n",
      "게임번호 :  {32, 2, 41, 45, 15, 28}\n",
      "당첨번호 :  {1, 35, 39, 14, 16, 20}\n",
      "맞은 번호는 []입니다\n",
      "꽝\n",
      "게임번호 :  {35, 36, 40, 9, 18, 24}\n",
      "당첨번호 :  {1, 35, 39, 14, 16, 20}\n",
      "맞은 번호는 [35]입니다\n",
      "예상게임 횟수는 9310 회 입니다\n",
      "예상비용은 9,310,000원입니다\n",
      "[9, 18, 35, 36, 40, 41]\n",
      "Wall time: 102 ms\n"
     ]
    }
   ],
   "source": [
    "%%time\n",
    "## 1등에 당첨되려면 평균적으로 얼마를 투자해야할까? 한게임에 1000원    \n",
    "for i in range(5):\n",
    "    lotto = set()\n",
    "    while len(lotto) <6:\n",
    "        lotto.add(random.randint(1,45))\n",
    "    if len((lotto & lucky_num)) == 6:\n",
    "        print(\"1등!!!!!!!!!!!!!!!!!!!!!!!!!!!!!!!!!!!!!!!!!!\")\n",
    "    elif len((lotto & lucky_num)) == 5:\n",
    "        print(\"2등!!!!!!!!!!!!!!!!!\")\n",
    "    elif len((lotto & lucky_num)) == 4:\n",
    "        print(\"3등!!!!!!!!\")\n",
    "    elif len((lotto & lucky_num)) == 3:\n",
    "        print(\"4등!!!\")\n",
    "    else:\n",
    "        print(\"꽝\")\n",
    "    print(\"게임번호 : \",lotto)\n",
    "    print(\"당첨번호 : \",lucky_num)\n",
    "    print(\"맞은 번호는 {}입니다\".format(sorted(lotto & lucky_num)))\n",
    "\n",
    "\n",
    "nCount = 0\n",
    "while True:\n",
    "    lucky_num = set()\n",
    "    while len(lucky_num) <6:\n",
    "        lucky_num.add(random.randint(1,45))\n",
    "    if len((lotto & lucky_num)) == 5:\n",
    "        break\n",
    "    else:\n",
    "        nCount +=1\n",
    "print(\"예상게임 횟수는 {} 회 입니다\".format(nCount))\n",
    "print(\"예상비용은 {:,}원입니다\".format(nCount*1000) )\n",
    "print(sorted(lucky_num))"
   ]
  },
  {
   "cell_type": "code",
   "execution_count": 1,
   "metadata": {},
   "outputs": [
    {
     "name": "stdout",
     "output_type": "stream",
     "text": [
      "[2, 3, 5, 7, 11, 13, 17, 19, 23, 29, 31]\n",
      "Wall time: 0 ns\n"
     ]
    },
    {
     "data": {
      "text/plain": [
       "[2, 3, 5, 7, 11, 13, 17, 19, 23, 29, 31]"
      ]
     },
     "execution_count": 1,
     "metadata": {},
     "output_type": "execute_result"
    }
   ],
   "source": [
    "%%time\n",
    "#문제 5\n",
    "#어떤수를 소수의 곱으로만 나타내는 것을 소인수 분해라고 한다.\n",
    "#이 소수들을 그 수의 소인수라고 한다\n",
    "#ex) 예를 들면 13195의 소인수는 5, 7, 13, 29\n",
    "\n",
    "## 600851475143의 소인수 중 가장 큰 수는 얼마일까요?\n",
    "\n",
    "var = 36\n",
    "\n",
    "myList = list()\n",
    "for i in range(2,var):\n",
    "    divcount = 0\n",
    "    for j in range(1,i):\n",
    "        if i % j == 0:\n",
    "            divcount = divcount + 1\n",
    "        else:\n",
    "            pass\n",
    "    if divcount == 1:\n",
    "        myList.append(i)\n",
    "    else:\n",
    "        pass\n",
    "print(myList)\n",
    "\n",
    "myList\n",
    "\n"
   ]
  },
  {
   "cell_type": "code",
   "execution_count": 136,
   "metadata": {},
   "outputs": [
    {
     "data": {
      "text/plain": [
       "36"
      ]
     },
     "execution_count": 136,
     "metadata": {},
     "output_type": "execute_result"
    }
   ],
   "source": [
    "var"
   ]
  },
  {
   "cell_type": "code",
   "execution_count": 2,
   "metadata": {
    "scrolled": true
   },
   "outputs": [
    {
     "name": "stdout",
     "output_type": "stream",
     "text": [
      "[2, 3]\n"
     ]
    }
   ],
   "source": [
    "result_List = list()\n",
    "myList\n",
    "\n",
    "for i in range(len(myList)):\n",
    "    if var % myList[i] == 0:\n",
    "        result_List.append(myList[i])\n",
    "    else:\n",
    "        pass\n",
    "print(result_List)"
   ]
  },
  {
   "cell_type": "code",
   "execution_count": 137,
   "metadata": {},
   "outputs": [
    {
     "data": {
      "text/plain": [
       "19500"
      ]
     },
     "execution_count": 137,
     "metadata": {},
     "output_type": "execute_result"
    }
   ],
   "source": [
    "## 문제 6.\n",
    "## 앞에서부터 읽을때나 뒤에서부터 읽을 때 모양이 같은 수를 대칭수라고 한다.\n",
    "## 예) 9009, 1111, 12321\n",
    "\n",
    "## 두자리수를 곱해서 만들수 있는 대칭수 중에 가장큰수는 9009(91*99)\n",
    "## 세자리수를 곱해서 만들수 있는 가장 큰 대칭수는?\n",
    "\n",
    "def myMulti(x,y):\n",
    "    result = x*y\n",
    "    return result\n",
    "\n",
    "myMulti(125,156)"
   ]
  },
  {
   "cell_type": "code",
   "execution_count": 139,
   "metadata": {},
   "outputs": [
    {
     "name": "stdout",
     "output_type": "stream",
     "text": [
      "['1', '2', '5', '6', '9', '4', '8']\n",
      "[1, 2, 5, 6, 9, 4, 8]\n",
      "[8, 4, 9, 6, 5, 2, 1]\n"
     ]
    }
   ],
   "source": [
    "def makeList(x):\n",
    "    str_x = str(x)\n",
    "    strList =list()\n",
    "    for i in range(len(str_x[:])):\n",
    "        strList.append(str_x[i])\n",
    "    strList\n",
    "\n",
    "    nmList = list()\n",
    "    for i in range(len(strList)):\n",
    "        nmList.append(int(strList[i]))\n",
    "    nmList\n",
    "\n",
    "    rev_nmList = list()\n",
    "    for i in range(len(strList)):\n",
    "        rev_nmList.append(int(strList[i]))\n",
    "    rev_nmList.reverse()\n",
    "\n",
    "# nmList = list()\n",
    "# for i in range()\n",
    "\n",
    "    print(strList)\n",
    "    print(nmList)\n",
    "    print(rev_nmList)\n",
    "    \n",
    "makeList(1256948)"
   ]
  },
  {
   "cell_type": "code",
   "execution_count": 123,
   "metadata": {
    "collapsed": true
   },
   "outputs": [
    {
     "ename": "SyntaxError",
     "evalue": "unexpected EOF while parsing (<ipython-input-123-7ea72cc000e5>, line 4)",
     "output_type": "error",
     "traceback": [
      "\u001b[1;36m  File \u001b[1;32m\"<ipython-input-123-7ea72cc000e5>\"\u001b[1;36m, line \u001b[1;32m4\u001b[0m\n\u001b[1;33m    \u001b[0m\n\u001b[1;37m    ^\u001b[0m\n\u001b[1;31mSyntaxError\u001b[0m\u001b[1;31m:\u001b[0m unexpected EOF while parsing\n"
     ]
    }
   ],
   "source": [
    "symmetryList = list()\n",
    "for i in range(len(nmList)):\n",
    "    if nmList[i] == rev_nmList[i]:\n",
    "        "
   ]
  },
  {
   "cell_type": "code",
   "execution_count": 130,
   "metadata": {},
   "outputs": [
    {
     "name": "stdout",
     "output_type": "stream",
     "text": [
      "906609\n"
     ]
    }
   ],
   "source": [
    "##################################강사님 풀이 시작####################################3\n",
    "\n",
    "## 문제 6.\n",
    "## 앞에서부터 읽을때나 뒤에서부터 읽을 때 모양이 같은 수를 대칭수라고 한다.\n",
    "## 예) 9009, 1111, 12321\n",
    "\n",
    "## 두자리수를 곱해서 만들수 있는 대칭수 중에 가장큰수는 9009(91*99)\n",
    "## 세자리수를 곱해서 만들수 있는 가장 큰 대칭수는?\n",
    "\n",
    "\n",
    "def check_number(x):\n",
    "    str1 = str(x)\n",
    "    tmp = list(str(x))\n",
    "    tmp.reverse()\n",
    "    if str1 == \"\".join(tmp):\n",
    "        return True\n",
    "    else:\n",
    "        return False\n",
    "    \n",
    "check_number(1112)\n",
    "check_number(1111)\n",
    "\n",
    "def calcul_number(x): # x가 1이면 2자리 수끼리 곱, # 2이면 3자리수 곱\n",
    "    result = []\n",
    "    for i in range(10**x,10**(x+1)):\n",
    "        for j in range(10**x,10**(x+1)):\n",
    "            if check_number(i*j):\n",
    "                result.append(i*j)\n",
    "    result  \n",
    "    print(max(result))\n",
    "        \n",
    "calcul_number(2)"
   ]
  },
  {
   "cell_type": "code",
   "execution_count": 14,
   "metadata": {},
   "outputs": [
    {
     "data": {
      "text/plain": [
       "2520"
      ]
     },
     "execution_count": 14,
     "metadata": {},
     "output_type": "execute_result"
    }
   ],
   "source": [
    "## 문제 7.\n",
    "## 1부터 10사이의 어떤 수로도 나누어 떨어지는 가장 작은 수는 2520\n",
    "## 1부터 20사이의 어떤 수로도 나누어 떨어지는 가장 작은 수는 얼마?\n",
    "\n",
    "def prime(x):\n",
    "    primeList = list()\n",
    "    for i in range(2,x+1):\n",
    "        divcount = 0\n",
    "        for j in range(1,i):\n",
    "            if i % j == 0:\n",
    "                divcount = divcount + 1\n",
    "            else:\n",
    "                pass\n",
    "        if divcount == 1:\n",
    "            primeList.append(i)\n",
    "    return primeList\n",
    "# print(prime(10))\n",
    "# print(len(prime(13)))\n",
    "\n",
    "# print(prime(10))\n",
    "# print(prime(10)[1])\n",
    "\n",
    "# print(len(prime(10)))\n",
    "\n",
    "nmList = list()\n",
    "def findMP(x):\n",
    "    for i in range(0,len(prime(x))):\n",
    "        for j in range(len(prime(x))+1):\n",
    "            if prime(x)[i]**j > x :\n",
    "                nmList.append(prime(x)[i]**(j-1))\n",
    "                break\n",
    "            else:\n",
    "                pass\n",
    "    return nmList\n",
    "#print(findMP(20))\n",
    "\n",
    "def fResult(x):\n",
    "    result=1\n",
    "    for i in range(len(findMP(x))):\n",
    "        result=result*findMP(x)[i]\n",
    "    return result\n",
    "fResult(10)\n",
    "\n"
   ]
  },
  {
   "cell_type": "code",
   "execution_count": null,
   "metadata": {},
   "outputs": [],
   "source": [
    "#구간중 소수를 추출\n",
    "#소수들을 리스트에 저장\n",
    "#정해진 구간의 최대값 보다 작은 소수의 배수를 찾는다\n",
    "#소수의 최대 배수를 찾았으면 그 값을 리스트에 저장\n",
    "#구간에서 뽑아낸 소수들의 목록을 다 활용했다면\n",
    "#저장된 리스트를 곱한다.b"
   ]
  },
  {
   "cell_type": "code",
   "execution_count": 58,
   "metadata": {},
   "outputs": [
    {
     "name": "stdout",
     "output_type": "stream",
     "text": [
      "[9, 5, 7]\n"
     ]
    }
   ],
   "source": [
    "L1=[2,3,5,7]\n",
    "L2=[1,2,3,4,5,6,7,8,9,10]\n",
    "MP=list()\n",
    "for i in range(len(L1)):\n",
    "    for j in range(len(L1)):\n",
    "        if L1[i]**j > len(L2):\n",
    "            MP.append(L1[i]**(j-1))\n",
    "            break\n",
    "        else:\n",
    "            pass\n",
    "print(MP)"
   ]
  },
  {
   "cell_type": "code",
   "execution_count": 2,
   "metadata": {},
   "outputs": [
    {
     "name": "stdout",
     "output_type": "stream",
     "text": [
      "홍길동,18,7,19\n",
      "최길동,58,70,15\n",
      "아이유,92,94,99\n",
      "김연아,17,20,22\n",
      "이선희,76,25,14\n",
      "강감찬,90,19,71\n",
      "신사임당,31,23,16최길동,58,70,15\n"
     ]
    }
   ],
   "source": [
    "#문제 8. student_score.txt 파일을 불러와서 학생성적에 대한 평균을 구하고 성적순으로 축력\n",
    "#        출력형식 이름, 성적평균, 등수\n",
    "\n",
    "file1 = open(\"student_score.txt\",\"r\")\n",
    "file2 = open(\"backup.txt\",\"w\" )\n",
    "\n",
    "raw_list = []\n",
    "\n",
    "while True:                   \n",
    "    line = file1.readline()\n",
    "    print(line, end=\"\")       \n",
    "    raw_list.append(line.rstrip())\n",
    "    if not line:\n",
    "        break\n",
    "    file2.write(line)\n",
    "#print(raw_list)   \n",
    "\n",
    "file1.close()\n",
    "file2.close()\n",
    "\n",
    "print(raw_list[1])\n",
    "\n"
   ]
  },
  {
   "cell_type": "code",
   "execution_count": 2,
   "metadata": {
    "collapsed": true
   },
   "outputs": [
    {
     "ename": "SyntaxError",
     "evalue": "unexpected EOF while parsing (student_score.py, line 17)",
     "output_type": "error",
     "traceback": [
      "Traceback \u001b[1;36m(most recent call last)\u001b[0m:\n",
      "  File \u001b[0;32m\"C:\\Users\\WON\\Anaconda3\\envs\\cpu_evn\\lib\\site-packages\\IPython\\core\\interactiveshell.py\"\u001b[0m, line \u001b[0;32m3326\u001b[0m, in \u001b[0;35mrun_code\u001b[0m\n    exec(code_obj, self.user_global_ns, self.user_ns)\n",
      "\u001b[1;36m  File \u001b[1;32m\"<ipython-input-2-e6e76e2c6787>\"\u001b[1;36m, line \u001b[1;32m8\u001b[1;36m, in \u001b[1;35m<module>\u001b[1;36m\u001b[0m\n\u001b[1;33m    import student_score as ss\u001b[0m\n",
      "\u001b[1;36m  File \u001b[1;32m\"C:\\python_DA\\python_Lib\\student_score.py\"\u001b[1;36m, line \u001b[1;32m17\u001b[0m\n\u001b[1;33m    \u001b[0m\n\u001b[1;37m    ^\u001b[0m\n\u001b[1;31mSyntaxError\u001b[0m\u001b[1;31m:\u001b[0m unexpected EOF while parsing\n"
     ]
    }
   ],
   "source": [
    "########################################강사님 풀이##############################################\n",
    "#문제 8. student_score.txt 파일을 불러와서 학생성적에 대한 평균을 구하고 성적순으로 축력\n",
    "#        출력형식 이름, 성적평균, 등수\n",
    "\n",
    "##모듈은 불러올때 한번만 불러옴. 모듈을 수정하고 다시 불러오고 싶다면\n",
    "##다시 재시작 해야함\n",
    "\n",
    "import student_score as ss\n",
    "import operator #정렬을 편하게 하기 위해서\n",
    "\n",
    "result = list() #학생개체들이 모여있는 리스트\n",
    "studentFile = open(\"student_score.txt\",\"r\")\n",
    "\n",
    "while True:\n",
    "    stu = (studentFile.readline()).replace(\"\\n\",\"\")\n",
    "    if stu == \"\":\n",
    "        break;\n",
    "    stu_list = stu.split(\",\")  # \",\"를 기준으로 문자열을 분리해서 리스트로 리턴\n",
    "                               # [ \"홍길동\", \"18\", \"7\", \"19\" ]\n",
    "    print(stu_list)\n",
    "    result.append(ss.Student(stu_list[0],stu_list[1],stu_list[2],stu_list[3]))\n",
    "\n",
    "## 정상적으로 데이터가 생성되었는지 확인\n",
    "# for s in result:\n",
    "#     s.print_student()\n",
    "    \n",
    "####### 정렬을 해보자 #############   attrgetter() : property의 값을 추출\n",
    "sorted_result = sorted(result,key=operator.attrgetter(\"sAvg\"))\n",
    "print()\n",
    "## 정렬된 결과를 확인해 보자\n",
    "# for i in result:\n",
    "#     s.print_student()"
   ]
  },
  {
   "cell_type": "code",
   "execution_count": 6,
   "metadata": {
    "collapsed": true
   },
   "outputs": [
    {
     "name": "stdout",
     "output_type": "stream",
     "text": [
      "테스트용 출력, 제조사는 audi, 고속도로 연비는 29입니다\n",
      "테스트용 출력, 제조사는 audi, 고속도로 연비는 29입니다\n",
      "테스트용 출력, 제조사는 audi, 고속도로 연비는 31입니다\n",
      "테스트용 출력, 제조사는 audi, 고속도로 연비는 30입니다\n",
      "테스트용 출력, 제조사는 audi, 고속도로 연비는 26입니다\n",
      "테스트용 출력, 제조사는 audi, 고속도로 연비는 26입니다\n",
      "테스트용 출력, 제조사는 audi, 고속도로 연비는 27입니다\n",
      "테스트용 출력, 제조사는 audi, 고속도로 연비는 26입니다\n",
      "테스트용 출력, 제조사는 audi, 고속도로 연비는 25입니다\n",
      "테스트용 출력, 제조사는 audi, 고속도로 연비는 28입니다\n",
      "테스트용 출력, 제조사는 audi, 고속도로 연비는 27입니다\n",
      "테스트용 출력, 제조사는 audi, 고속도로 연비는 25입니다\n",
      "테스트용 출력, 제조사는 audi, 고속도로 연비는 25입니다\n",
      "테스트용 출력, 제조사는 audi, 고속도로 연비는 25입니다\n",
      "테스트용 출력, 제조사는 audi, 고속도로 연비는 25입니다\n",
      "테스트용 출력, 제조사는 audi, 고속도로 연비는 24입니다\n",
      "테스트용 출력, 제조사는 audi, 고속도로 연비는 25입니다\n",
      "테스트용 출력, 제조사는 audi, 고속도로 연비는 23입니다\n",
      "테스트용 출력, 제조사는 chevrolet, 고속도로 연비는 20입니다\n",
      "테스트용 출력, 제조사는 chevrolet, 고속도로 연비는 15입니다\n",
      "테스트용 출력, 제조사는 chevrolet, 고속도로 연비는 20입니다\n",
      "테스트용 출력, 제조사는 chevrolet, 고속도로 연비는 17입니다\n",
      "테스트용 출력, 제조사는 chevrolet, 고속도로 연비는 17입니다\n",
      "테스트용 출력, 제조사는 chevrolet, 고속도로 연비는 26입니다\n",
      "테스트용 출력, 제조사는 chevrolet, 고속도로 연비는 23입니다\n",
      "테스트용 출력, 제조사는 chevrolet, 고속도로 연비는 26입니다\n",
      "테스트용 출력, 제조사는 chevrolet, 고속도로 연비는 25입니다\n",
      "테스트용 출력, 제조사는 chevrolet, 고속도로 연비는 24입니다\n",
      "테스트용 출력, 제조사는 chevrolet, 고속도로 연비는 19입니다\n",
      "테스트용 출력, 제조사는 chevrolet, 고속도로 연비는 14입니다\n",
      "테스트용 출력, 제조사는 chevrolet, 고속도로 연비는 15입니다\n",
      "테스트용 출력, 제조사는 chevrolet, 고속도로 연비는 17입니다\n",
      "테스트용 출력, 제조사는 chevrolet, 고속도로 연비는 27입니다\n",
      "테스트용 출력, 제조사는 chevrolet, 고속도로 연비는 30입니다\n",
      "테스트용 출력, 제조사는 chevrolet, 고속도로 연비는 26입니다\n",
      "테스트용 출력, 제조사는 chevrolet, 고속도로 연비는 29입니다\n",
      "테스트용 출력, 제조사는 chevrolet, 고속도로 연비는 26입니다\n",
      "테스트용 출력, 제조사는 dodge, 고속도로 연비는 24입니다\n",
      "테스트용 출력, 제조사는 dodge, 고속도로 연비는 24입니다\n",
      "테스트용 출력, 제조사는 dodge, 고속도로 연비는 22입니다\n",
      "테스트용 출력, 제조사는 dodge, 고속도로 연비는 22입니다\n",
      "테스트용 출력, 제조사는 dodge, 고속도로 연비는 24입니다\n",
      "테스트용 출력, 제조사는 dodge, 고속도로 연비는 24입니다\n",
      "테스트용 출력, 제조사는 dodge, 고속도로 연비는 17입니다\n",
      "테스트용 출력, 제조사는 dodge, 고속도로 연비는 22입니다\n",
      "테스트용 출력, 제조사는 dodge, 고속도로 연비는 21입니다\n",
      "테스트용 출력, 제조사는 dodge, 고속도로 연비는 23입니다\n",
      "테스트용 출력, 제조사는 dodge, 고속도로 연비는 23입니다\n",
      "테스트용 출력, 제조사는 dodge, 고속도로 연비는 19입니다\n",
      "테스트용 출력, 제조사는 dodge, 고속도로 연비는 18입니다\n",
      "테스트용 출력, 제조사는 dodge, 고속도로 연비는 17입니다\n",
      "테스트용 출력, 제조사는 dodge, 고속도로 연비는 17입니다\n",
      "테스트용 출력, 제조사는 dodge, 고속도로 연비는 19입니다\n",
      "테스트용 출력, 제조사는 dodge, 고속도로 연비는 19입니다\n",
      "테스트용 출력, 제조사는 dodge, 고속도로 연비는 12입니다\n",
      "테스트용 출력, 제조사는 dodge, 고속도로 연비는 17입니다\n",
      "테스트용 출력, 제조사는 dodge, 고속도로 연비는 15입니다\n",
      "테스트용 출력, 제조사는 dodge, 고속도로 연비는 17입니다\n",
      "테스트용 출력, 제조사는 dodge, 고속도로 연비는 17입니다\n",
      "테스트용 출력, 제조사는 dodge, 고속도로 연비는 12입니다\n",
      "테스트용 출력, 제조사는 dodge, 고속도로 연비는 17입니다\n",
      "테스트용 출력, 제조사는 dodge, 고속도로 연비는 16입니다\n",
      "테스트용 출력, 제조사는 dodge, 고속도로 연비는 18입니다\n",
      "테스트용 출력, 제조사는 dodge, 고속도로 연비는 15입니다\n",
      "테스트용 출력, 제조사는 dodge, 고속도로 연비는 16입니다\n",
      "테스트용 출력, 제조사는 dodge, 고속도로 연비는 12입니다\n",
      "테스트용 출력, 제조사는 dodge, 고속도로 연비는 17입니다\n",
      "테스트용 출력, 제조사는 dodge, 고속도로 연비는 17입니다\n",
      "테스트용 출력, 제조사는 dodge, 고속도로 연비는 16입니다\n",
      "테스트용 출력, 제조사는 dodge, 고속도로 연비는 12입니다\n",
      "테스트용 출력, 제조사는 dodge, 고속도로 연비는 15입니다\n",
      "테스트용 출력, 제조사는 dodge, 고속도로 연비는 16입니다\n",
      "테스트용 출력, 제조사는 dodge, 고속도로 연비는 17입니다\n",
      "테스트용 출력, 제조사는 dodge, 고속도로 연비는 15입니다\n",
      "테스트용 출력, 제조사는 ford, 고속도로 연비는 17입니다\n",
      "테스트용 출력, 제조사는 ford, 고속도로 연비는 17입니다\n",
      "테스트용 출력, 제조사는 ford, 고속도로 연비는 18입니다\n",
      "테스트용 출력, 제조사는 ford, 고속도로 연비는 17입니다\n",
      "테스트용 출력, 제조사는 ford, 고속도로 연비는 19입니다\n",
      "테스트용 출력, 제조사는 ford, 고속도로 연비는 17입니다\n",
      "테스트용 출력, 제조사는 ford, 고속도로 연비는 19입니다\n",
      "테스트용 출력, 제조사는 ford, 고속도로 연비는 19입니다\n",
      "테스트용 출력, 제조사는 ford, 고속도로 연비는 17입니다\n",
      "테스트용 출력, 제조사는 ford, 고속도로 연비는 17입니다\n",
      "테스트용 출력, 제조사는 ford, 고속도로 연비는 17입니다\n",
      "테스트용 출력, 제조사는 ford, 고속도로 연비는 16입니다\n",
      "테스트용 출력, 제조사는 ford, 고속도로 연비는 16입니다\n",
      "테스트용 출력, 제조사는 ford, 고속도로 연비는 17입니다\n",
      "테스트용 출력, 제조사는 ford, 고속도로 연비는 15입니다\n",
      "테스트용 출력, 제조사는 ford, 고속도로 연비는 17입니다\n",
      "테스트용 출력, 제조사는 ford, 고속도로 연비는 26입니다\n",
      "테스트용 출력, 제조사는 ford, 고속도로 연비는 25입니다\n",
      "테스트용 출력, 제조사는 ford, 고속도로 연비는 26입니다\n",
      "테스트용 출력, 제조사는 ford, 고속도로 연비는 24입니다\n",
      "테스트용 출력, 제조사는 ford, 고속도로 연비는 21입니다\n",
      "테스트용 출력, 제조사는 ford, 고속도로 연비는 22입니다\n",
      "테스트용 출력, 제조사는 ford, 고속도로 연비는 23입니다\n",
      "테스트용 출력, 제조사는 ford, 고속도로 연비는 22입니다\n",
      "테스트용 출력, 제조사는 ford, 고속도로 연비는 20입니다\n",
      "테스트용 출력, 제조사는 honda, 고속도로 연비는 33입니다\n",
      "테스트용 출력, 제조사는 honda, 고속도로 연비는 32입니다\n",
      "테스트용 출력, 제조사는 honda, 고속도로 연비는 32입니다\n",
      "테스트용 출력, 제조사는 honda, 고속도로 연비는 29입니다\n",
      "테스트용 출력, 제조사는 honda, 고속도로 연비는 32입니다\n",
      "테스트용 출력, 제조사는 honda, 고속도로 연비는 34입니다\n",
      "테스트용 출력, 제조사는 honda, 고속도로 연비는 36입니다\n",
      "테스트용 출력, 제조사는 honda, 고속도로 연비는 36입니다\n",
      "테스트용 출력, 제조사는 honda, 고속도로 연비는 29입니다\n",
      "테스트용 출력, 제조사는 hyundai, 고속도로 연비는 26입니다\n",
      "테스트용 출력, 제조사는 hyundai, 고속도로 연비는 27입니다\n",
      "테스트용 출력, 제조사는 hyundai, 고속도로 연비는 30입니다\n",
      "테스트용 출력, 제조사는 hyundai, 고속도로 연비는 31입니다\n",
      "테스트용 출력, 제조사는 hyundai, 고속도로 연비는 26입니다\n",
      "테스트용 출력, 제조사는 hyundai, 고속도로 연비는 26입니다\n",
      "테스트용 출력, 제조사는 hyundai, 고속도로 연비는 28입니다\n",
      "테스트용 출력, 제조사는 hyundai, 고속도로 연비는 26입니다\n",
      "테스트용 출력, 제조사는 hyundai, 고속도로 연비는 29입니다\n",
      "테스트용 출력, 제조사는 hyundai, 고속도로 연비는 28입니다\n",
      "테스트용 출력, 제조사는 hyundai, 고속도로 연비는 27입니다\n",
      "테스트용 출력, 제조사는 hyundai, 고속도로 연비는 24입니다\n",
      "테스트용 출력, 제조사는 hyundai, 고속도로 연비는 24입니다\n",
      "테스트용 출력, 제조사는 hyundai, 고속도로 연비는 24입니다\n",
      "테스트용 출력, 제조사는 jeep, 고속도로 연비는 22입니다\n",
      "테스트용 출력, 제조사는 jeep, 고속도로 연비는 19입니다\n",
      "테스트용 출력, 제조사는 jeep, 고속도로 연비는 20입니다\n",
      "테스트용 출력, 제조사는 jeep, 고속도로 연비는 17입니다\n",
      "테스트용 출력, 제조사는 jeep, 고속도로 연비는 12입니다\n",
      "테스트용 출력, 제조사는 jeep, 고속도로 연비는 19입니다\n",
      "테스트용 출력, 제조사는 jeep, 고속도로 연비는 18입니다\n",
      "테스트용 출력, 제조사는 jeep, 고속도로 연비는 14입니다\n",
      "테스트용 출력, 제조사는 land rover, 고속도로 연비는 15입니다\n",
      "테스트용 출력, 제조사는 land rover, 고속도로 연비는 18입니다\n",
      "테스트용 출력, 제조사는 land rover, 고속도로 연비는 18입니다\n",
      "테스트용 출력, 제조사는 land rover, 고속도로 연비는 15입니다\n",
      "테스트용 출력, 제조사는 lincoln, 고속도로 연비는 17입니다\n",
      "테스트용 출력, 제조사는 lincoln, 고속도로 연비는 16입니다\n",
      "테스트용 출력, 제조사는 lincoln, 고속도로 연비는 18입니다\n",
      "테스트용 출력, 제조사는 mercury, 고속도로 연비는 17입니다\n",
      "테스트용 출력, 제조사는 mercury, 고속도로 연비는 19입니다\n",
      "테스트용 출력, 제조사는 mercury, 고속도로 연비는 19입니다\n",
      "테스트용 출력, 제조사는 mercury, 고속도로 연비는 17입니다\n",
      "테스트용 출력, 제조사는 nissan, 고속도로 연비는 29입니다\n",
      "테스트용 출력, 제조사는 nissan, 고속도로 연비는 27입니다\n",
      "테스트용 출력, 제조사는 nissan, 고속도로 연비는 31입니다\n",
      "테스트용 출력, 제조사는 nissan, 고속도로 연비는 32입니다\n",
      "테스트용 출력, 제조사는 nissan, 고속도로 연비는 27입니다\n",
      "테스트용 출력, 제조사는 nissan, 고속도로 연비는 26입니다\n",
      "테스트용 출력, 제조사는 nissan, 고속도로 연비는 26입니다\n",
      "테스트용 출력, 제조사는 nissan, 고속도로 연비는 25입니다\n",
      "테스트용 출력, 제조사는 nissan, 고속도로 연비는 25입니다\n",
      "테스트용 출력, 제조사는 nissan, 고속도로 연비는 17입니다\n",
      "테스트용 출력, 제조사는 nissan, 고속도로 연비는 17입니다\n",
      "테스트용 출력, 제조사는 nissan, 고속도로 연비는 20입니다\n",
      "테스트용 출력, 제조사는 nissan, 고속도로 연비는 18입니다\n",
      "테스트용 출력, 제조사는 pontiac, 고속도로 연비는 26입니다\n",
      "테스트용 출력, 제조사는 pontiac, 고속도로 연비는 26입니다\n",
      "테스트용 출력, 제조사는 pontiac, 고속도로 연비는 27입니다\n",
      "테스트용 출력, 제조사는 pontiac, 고속도로 연비는 28입니다\n",
      "테스트용 출력, 제조사는 pontiac, 고속도로 연비는 25입니다\n",
      "테스트용 출력, 제조사는 subaru, 고속도로 연비는 25입니다\n",
      "테스트용 출력, 제조사는 subaru, 고속도로 연비는 24입니다\n",
      "테스트용 출력, 제조사는 subaru, 고속도로 연비는 27입니다\n",
      "테스트용 출력, 제조사는 subaru, 고속도로 연비는 25입니다\n",
      "테스트용 출력, 제조사는 subaru, 고속도로 연비는 26입니다\n",
      "테스트용 출력, 제조사는 subaru, 고속도로 연비는 23입니다\n",
      "테스트용 출력, 제조사는 subaru, 고속도로 연비는 26입니다\n",
      "테스트용 출력, 제조사는 subaru, 고속도로 연비는 26입니다\n",
      "테스트용 출력, 제조사는 subaru, 고속도로 연비는 26입니다\n",
      "테스트용 출력, 제조사는 subaru, 고속도로 연비는 26입니다\n",
      "테스트용 출력, 제조사는 subaru, 고속도로 연비는 25입니다\n",
      "테스트용 출력, 제조사는 subaru, 고속도로 연비는 27입니다\n",
      "테스트용 출력, 제조사는 subaru, 고속도로 연비는 25입니다\n",
      "테스트용 출력, 제조사는 subaru, 고속도로 연비는 27입니다\n",
      "테스트용 출력, 제조사는 toyota, 고속도로 연비는 20입니다\n",
      "테스트용 출력, 제조사는 toyota, 고속도로 연비는 20입니다\n",
      "테스트용 출력, 제조사는 toyota, 고속도로 연비는 19입니다\n",
      "테스트용 출력, 제조사는 toyota, 고속도로 연비는 17입니다\n",
      "테스트용 출력, 제조사는 toyota, 고속도로 연비는 20입니다\n",
      "테스트용 출력, 제조사는 toyota, 고속도로 연비는 17입니다\n",
      "테스트용 출력, 제조사는 toyota, 고속도로 연비는 29입니다\n",
      "테스트용 출력, 제조사는 toyota, 고속도로 연비는 27입니다\n",
      "테스트용 출력, 제조사는 toyota, 고속도로 연비는 31입니다\n",
      "테스트용 출력, 제조사는 toyota, 고속도로 연비는 31입니다\n",
      "테스트용 출력, 제조사는 toyota, 고속도로 연비는 26입니다\n",
      "테스트용 출력, 제조사는 toyota, 고속도로 연비는 26입니다\n",
      "테스트용 출력, 제조사는 toyota, 고속도로 연비는 28입니다\n",
      "테스트용 출력, 제조사는 toyota, 고속도로 연비는 27입니다\n",
      "테스트용 출력, 제조사는 toyota, 고속도로 연비는 29입니다\n",
      "테스트용 출력, 제조사는 toyota, 고속도로 연비는 31입니다\n",
      "테스트용 출력, 제조사는 toyota, 고속도로 연비는 31입니다\n",
      "테스트용 출력, 제조사는 toyota, 고속도로 연비는 26입니다\n",
      "테스트용 출력, 제조사는 toyota, 고속도로 연비는 26입니다\n",
      "테스트용 출력, 제조사는 toyota, 고속도로 연비는 27입니다\n",
      "테스트용 출력, 제조사는 toyota, 고속도로 연비는 30입니다\n",
      "테스트용 출력, 제조사는 toyota, 고속도로 연비는 33입니다\n",
      "테스트용 출력, 제조사는 toyota, 고속도로 연비는 35입니다\n",
      "테스트용 출력, 제조사는 toyota, 고속도로 연비는 37입니다\n",
      "테스트용 출력, 제조사는 toyota, 고속도로 연비는 35입니다\n",
      "테스트용 출력, 제조사는 toyota, 고속도로 연비는 15입니다\n",
      "테스트용 출력, 제조사는 toyota, 고속도로 연비는 18입니다\n",
      "테스트용 출력, 제조사는 toyota, 고속도로 연비는 20입니다\n",
      "테스트용 출력, 제조사는 toyota, 고속도로 연비는 20입니다\n",
      "테스트용 출력, 제조사는 toyota, 고속도로 연비는 22입니다\n",
      "테스트용 출력, 제조사는 toyota, 고속도로 연비는 17입니다\n",
      "테스트용 출력, 제조사는 toyota, 고속도로 연비는 19입니다\n",
      "테스트용 출력, 제조사는 toyota, 고속도로 연비는 18입니다\n",
      "테스트용 출력, 제조사는 toyota, 고속도로 연비는 20입니다\n",
      "테스트용 출력, 제조사는 volkswagen, 고속도로 연비는 29입니다\n",
      "테스트용 출력, 제조사는 volkswagen, 고속도로 연비는 26입니다\n",
      "테스트용 출력, 제조사는 volkswagen, 고속도로 연비는 29입니다\n",
      "테스트용 출력, 제조사는 volkswagen, 고속도로 연비는 29입니다\n",
      "테스트용 출력, 제조사는 volkswagen, 고속도로 연비는 24입니다\n",
      "테스트용 출력, 제조사는 volkswagen, 고속도로 연비는 44입니다\n",
      "테스트용 출력, 제조사는 volkswagen, 고속도로 연비는 29입니다\n",
      "테스트용 출력, 제조사는 volkswagen, 고속도로 연비는 26입니다\n",
      "테스트용 출력, 제조사는 volkswagen, 고속도로 연비는 29입니다\n",
      "테스트용 출력, 제조사는 volkswagen, 고속도로 연비는 29입니다\n",
      "테스트용 출력, 제조사는 volkswagen, 고속도로 연비는 29입니다\n",
      "테스트용 출력, 제조사는 volkswagen, 고속도로 연비는 29입니다\n",
      "테스트용 출력, 제조사는 volkswagen, 고속도로 연비는 23입니다\n",
      "테스트용 출력, 제조사는 volkswagen, 고속도로 연비는 24입니다\n",
      "테스트용 출력, 제조사는 volkswagen, 고속도로 연비는 44입니다\n",
      "테스트용 출력, 제조사는 volkswagen, 고속도로 연비는 41입니다\n",
      "테스트용 출력, 제조사는 volkswagen, 고속도로 연비는 29입니다\n",
      "테스트용 출력, 제조사는 volkswagen, 고속도로 연비는 26입니다\n",
      "테스트용 출력, 제조사는 volkswagen, 고속도로 연비는 28입니다\n",
      "테스트용 출력, 제조사는 volkswagen, 고속도로 연비는 29입니다\n",
      "테스트용 출력, 제조사는 volkswagen, 고속도로 연비는 29입니다\n",
      "테스트용 출력, 제조사는 volkswagen, 고속도로 연비는 29입니다\n",
      "테스트용 출력, 제조사는 volkswagen, 고속도로 연비는 28입니다\n",
      "테스트용 출력, 제조사는 volkswagen, 고속도로 연비는 29입니다\n",
      "테스트용 출력, 제조사는 volkswagen, 고속도로 연비는 26입니다\n",
      "테스트용 출력, 제조사는 volkswagen, 고속도로 연비는 26입니다\n",
      "테스트용 출력, 제조사는 volkswagen, 고속도로 연비는 26입니다\n"
     ]
    }
   ],
   "source": [
    "import mpg as md\n",
    "import operator #정렬을 편하게 하기 위해서\n",
    "\n",
    "result = list() \n",
    "mpgFile = open(\"mpg_df.txt\",\"r\",encoding=\"UTF-8\")\n",
    "\n",
    "while True:\n",
    "    mpg = (mpgFile.readline()).replace(\"\\n\",\"\")\n",
    "    mpg_list = mpg.split(\",\")\n",
    "    if mpg == \"\":\n",
    "        break;\n",
    "    #print(mpg_list)\n",
    "    result.append(md.Car(mpg_list[0],mpg_list[1],\n",
    "                         mpg_list[2],mpg_list[3],\n",
    "                         mpg_list[4],mpg_list[5],\n",
    "                         mpg_list[6],mpg_list[7],\n",
    "                         mpg_list[8],mpg_list[9],\n",
    "                         mpg_list[10]))\n",
    "\n",
    "## 정상적으로 데이터가 생성되었는지 확인\n",
    "for s in result:\n",
    "    s.print_test()\n"
   ]
  },
  {
   "cell_type": "code",
   "execution_count": 8,
   "metadata": {},
   "outputs": [
    {
     "ename": "TypeError",
     "evalue": "'float' object is not subscriptable",
     "output_type": "error",
     "traceback": [
      "\u001b[1;31m---------------------------------------------------------------------------\u001b[0m",
      "\u001b[1;31mTypeError\u001b[0m                                 Traceback (most recent call last)",
      "\u001b[1;32m<ipython-input-8-2b760350951f>\u001b[0m in \u001b[0;36m<module>\u001b[1;34m\u001b[0m\n\u001b[0;32m      3\u001b[0m \u001b[0mdisList\u001b[0m \u001b[1;33m=\u001b[0m \u001b[0mlist\u001b[0m\u001b[1;33m(\u001b[0m\u001b[1;33m)\u001b[0m\u001b[1;33m\u001b[0m\u001b[1;33m\u001b[0m\u001b[0m\n\u001b[0;32m      4\u001b[0m \u001b[1;32mfor\u001b[0m \u001b[0mi\u001b[0m \u001b[1;32min\u001b[0m \u001b[0mresult\u001b[0m\u001b[1;33m:\u001b[0m\u001b[1;33m\u001b[0m\u001b[1;33m\u001b[0m\u001b[0m\n\u001b[1;32m----> 5\u001b[1;33m     \u001b[0mdisList\u001b[0m\u001b[1;33m.\u001b[0m\u001b[0mappend\u001b[0m\u001b[1;33m(\u001b[0m\u001b[0mi\u001b[0m\u001b[1;33m.\u001b[0m\u001b[0mcDispl\u001b[0m\u001b[1;33m[\u001b[0m\u001b[0mi\u001b[0m\u001b[1;33m]\u001b[0m\u001b[1;33m)\u001b[0m\u001b[1;33m\u001b[0m\u001b[1;33m\u001b[0m\u001b[0m\n\u001b[0m",
      "\u001b[1;31mTypeError\u001b[0m: 'float' object is not subscriptable"
     ]
    }
   ],
   "source": [
    "# 1. displ(배기량)이 4 이하인 자동차와 5 이상인 자동차 중 어떤 자동차의 hwy(고속도로 연비)가 \n",
    "# 평균적으로 더 높은지 확인하세요.\n",
    "disList = list()\n",
    "for i in result:\n",
    "    disList.append(i.cDispl[i])"
   ]
  },
  {
   "cell_type": "code",
   "execution_count": 13,
   "metadata": {},
   "outputs": [
    {
     "data": {
      "text/plain": [
       "25164150"
      ]
     },
     "execution_count": 13,
     "metadata": {},
     "output_type": "execute_result"
    }
   ],
   "source": [
    "## 문제 9\n",
    "## 1부터 10까지 자연수를 각각 제곱해서 더하면\n",
    "## 1**2 + 2**2 + 3**2 + .... = 385\n",
    "## 1부터 10까지 모두 더한다음 그 결과를 제곱하면\n",
    "## (1 + 2 + 3 + 4 + ... + 10)**2 = 3025\n",
    "## 그차이는 3025 - 385 = 2640\n",
    "\n",
    "## 1~100까지는 ?\n",
    "\n",
    "def myFunc(x):\n",
    "    tmp1 = 0\n",
    "    tmp2 = 0\n",
    "    for i in range(1,x+1):\n",
    "        tmp1 = tmp1 + i**2\n",
    "    for i in range(1,x+1):\n",
    "        tmp2 = tmp2 + i\n",
    "    tmp2 = tmp2**2\n",
    "    result = tmp2-tmp1\n",
    "    return result\n",
    "myFunc(100)\n",
    "        "
   ]
  },
  {
   "cell_type": "code",
   "execution_count": 67,
   "metadata": {},
   "outputs": [],
   "source": [
    "## 문제 10. \n",
    "##소수를 크기순으로 나열하면, 2,3,5,7,11,13,17,....\n",
    "##이때 10,001번째 소수는 얼마일까요?\n",
    "\n",
    "def primeResult(x):\n",
    "    primeIndex = list()\n",
    "    for i in range(2,x):\n",
    "        divcount = 0\n",
    "        for j in range(1,i):\n",
    "            if i% j == 0:\n",
    "                divcount = divcount + 1\n",
    "            else:\n",
    "                pass\n",
    "        if divcount == 1:\n",
    "            primeIndex.append(i)\n",
    "        else:\n",
    "            pass\n",
    "    return primeIndex\n",
    "\n",
    "len(primeResult(10))\n",
    "\n",
    "def findPI(x):\n",
    "    for i in range(1,len(primeResult(x))):\n",
    "        if len(primeResult(x)) == x:\n",
    "            result = primeResult(x)[-1]\n",
    "            break\n",
    "            return result\n",
    "        \n",
    "findPI(4)\n",
    "        "
   ]
  },
  {
   "cell_type": "code",
   "execution_count": 97,
   "metadata": {},
   "outputs": [],
   "source": [
    "while x < 10:\n",
    "    primeIndex = list()\n",
    "    for i in range(2,x):\n",
    "        divcount = 0\n",
    "        for j in range(1,i):\n",
    "            if i% j == 0:\n",
    "                divcount = divcount + 1\n",
    "            else:\n",
    "                pass\n",
    "        if divcount == 1:\n",
    "            primeIndex.append(i)\n",
    "        else:\n",
    "            pass\n",
    "    return primeIndex"
   ]
  }
 ],
 "metadata": {
  "kernelspec": {
   "display_name": "[CPU_ENV]",
   "language": "python",
   "name": "cpu_env"
  },
  "language_info": {
   "codemirror_mode": {
    "name": "ipython",
    "version": 3
   },
   "file_extension": ".py",
   "mimetype": "text/x-python",
   "name": "python",
   "nbconvert_exporter": "python",
   "pygments_lexer": "ipython3",
   "version": "3.6.9"
  }
 },
 "nbformat": 4,
 "nbformat_minor": 2
}
