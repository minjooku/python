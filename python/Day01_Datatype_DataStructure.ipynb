{
 "cells": [
  {
   "cell_type": "code",
   "execution_count": null,
   "metadata": {},
   "outputs": [],
   "source": [
    "#python Built-in Type\n",
    "#Numeric(int :정수, float : 실수, complex : 복소수)\n",
    "#Text Sequance : 문자열 (str)\n",
    "#Bool : True, False (bool)\n",
    "\n",
    "#자료구조\n",
    "#Sequace( list, tuple )\n",
    "#Mapping ( dict )\n",
    "#Set ( set )"
   ]
  },
  {
   "cell_type": "code",
   "execution_count": 6,
   "metadata": {
    "collapsed": true
   },
   "outputs": [
    {
     "name": "stdout",
     "output_type": "stream",
     "text": [
      "<class 'int'>\n",
      "<class 'float'>\n",
      "<class 'float'>\n",
      "0.75\n",
      "27\n",
      "1\n",
      "33\n"
     ]
    }
   ],
   "source": [
    "#Numeric Data Type\n",
    "#int\n",
    "#float\n",
    "#complex\n",
    "\n",
    "a = 123 #정수(10진수)\n",
    "b = 3.141592549251 #실수\n",
    "c = 3.14E10 #지수표현 (실수)\n",
    "d = 1+2j #복소수\n",
    "e = 0o37 #앞에있는 0 은 숫자 뒤에있는 o는 영문자 => 0o는 8진수\n",
    "f = 0xFF #16진수\n",
    "\n",
    "print(type(a)) # a의 data type을 알려준다\n",
    "print(type(b))\n",
    "print(type(c))\n",
    "\n",
    "div = 3/4 # 0.75(3.x 버젼, 2.x 버젼에서는 => 0)\n",
    "print(div)\n",
    "\n",
    "result = 3**3 #지수표현 3의 3승\n",
    "print(result)\n",
    "\n",
    "result = 100 % 3 #나머지 연산 R에서는  %%\n",
    "print(result)\n",
    "\n",
    "result = 100//3 #나눗셈의 몫 R에서는 %/%\n",
    "print(result)"
   ]
  },
  {
   "cell_type": "code",
   "execution_count": 31,
   "metadata": {
    "collapsed": true
   },
   "outputs": [
    {
     "name": "stdout",
     "output_type": "stream",
     "text": [
      "이것은 \n",
      "소리없는 아우성\n",
      "이것은\n",
      "소리없는\n",
      "아우성\n",
      "이것은소리없는 아우성!!!\n",
      "python python python \n",
      "t\n",
      " \n",
      "y\n",
      "thi\n",
      "this\n",
      " is a sample text!!. show me the money\n",
      "this is a sample text!!. show me the money\n"
     ]
    }
   ],
   "source": [
    "#Text Sequence Type (str)\n",
    "#우리가 일반적으로 말하는 문자열\n",
    "#문자열 생성 방법 (4가지)\n",
    "a = \"hello\" # \"\" 를 이용 (한줄짜리 문자열)\n",
    "b = 'hello' # '' 도 이용가능 (한줄짜리 문자열)\n",
    "#여러줄 자리 문자열\n",
    "c = \"\"\"이것은 \n",
    "소리없는 아우성\"\"\" #주석을 변수에 저장하면 문자열이 된다! 라인이 바뀐것도 적용해준다.\n",
    "d = '''이것은\n",
    "소리없는\n",
    "아우성'''\n",
    "print(c)\n",
    "print(d)\n",
    "\n",
    "##################################################################################\n",
    "\n",
    "#문자열 연산, Indexing , Slicing\n",
    "first = \"이것은\"\n",
    "last =  \"\"\"소리없는 아우성!!!\"\"\"\n",
    "\n",
    "#두 문자열을 연결\n",
    "result = first + last #연산자 overloading\n",
    "print(result)\n",
    "\n",
    "#문자열의 곱은?\n",
    "text = \"python \"\n",
    "print(text*3) #문자열을 3번 연결하는 것!\n",
    "\n",
    "a = \"this is a sample text!!. show me the money\"\n",
    "\n",
    "#Indexing : 위치를 파악해서 원하는걸 뽑아내는것 원하는 위치에 값을 넣는것 \n",
    "print(a[0]) # t 출력 python의 인덱스는 0부터 시작\n",
    "print(a[4]) # 빈공간 출력\n",
    "print(a[-1]) #맨 마지막 y출력\n",
    "\n",
    "#Slicing : 일부분을 잘라오거나 다른 값으로 변환하는 역할\n",
    "print(a[0:3]) #시작은 inclusive 끝은 exclusive 0,1,2 만 뜯어온다\n",
    "print(a[:4])  #처음부터 인덱스 4 이전까지 뜯어온다\n",
    "print(a[4:])  #4부터 마지막 끝까지 뜯어온다\n",
    "print(a[:])   #문자열의 처음부터 끝까지"
   ]
  },
  {
   "cell_type": "code",
   "execution_count": 50,
   "metadata": {
    "collapsed": true
   },
   "outputs": [
    {
     "name": "stdout",
     "output_type": "stream",
     "text": [
      "True\n",
      "False\n",
      "False\n",
      "True\n",
      "사과가 10개 있어요1\n",
      "사과가 10개 있어요!2\n",
      "사과가 100개 있어요!3\n",
      "사과가 10개, 바나나가 5개 있어요!4\n",
      "원주율은 3.141592입니다\n",
      "이것은 소리없는        아우성!!\n",
      "이것은 소리없는 아우성       !!\n",
      "원주율은 3.1416\n"
     ]
    }
   ],
   "source": [
    "#in, not in 연산자 #R에서는 %in%\n",
    "a = \"this is a Sample Text\"\n",
    "print(\"this\" in a) # 논리 연산자 True출력\n",
    "print(\"this\" not in a) # False 출력\n",
    "print(\"sample\" in a) # 대소문자 구별함 False출력\n",
    "print(\"this\" in a.lower()) #a를 소문자로 변환 후 찾아봐 True출력\n",
    "\n",
    "#문자열 formatting\n",
    "apple = 10\n",
    "#a = \"사과가 10개 있어요!!\"\n",
    "#a = \"사과가 \" + apple + \"개 있어요\"# + 연산을 할 때 Data type이 맞아야함. java는 가능\n",
    "a = \"사과가 \" + str(apple) + \"개 있어요1\"\n",
    "print(a)\n",
    "\n",
    "#이렇게 할 수 있는데 귀찮다....\n",
    "a = \"사과가 %d개 있어요!2\" %apple # %d 정수형 포맷팅! 설정\n",
    "print(a)\n",
    "\n",
    "a = \"사과가 %d개 있어요!3\" %100\n",
    "print(a)\n",
    "\n",
    "a = \"사과가 %d개, 바나나가 %d개 있어요!4\" %(apple,5)\n",
    "print(a)\n",
    "\n",
    "a = \"원주율은 %f입니다\" %3.141592 # %f는 실수의 포맷팅\n",
    "print(a)\n",
    "\n",
    "a = \"이것은 소리없는 %10s!!\" %\"아우성\" # %s 문자열 포맷팅 칸수 10개 잡고 오른쪽정렬\n",
    "print(a)\n",
    "\n",
    "a = \"이것은 소리없는 %-10s!!\" %\"아우성\" #칸수 10개 잡고 왼쪽정렬\n",
    "print(a)\n",
    "\n",
    "a = \"원주율은 %0.4f\" %3.141592 #소수점 넷째자리 까지 출력 5번째 자리에서 반올림하라는 의미!\n",
    "print(a)"
   ]
  },
  {
   "cell_type": "code",
   "execution_count": 5,
   "metadata": {
    "collapsed": true
   },
   "outputs": [
    {
     "name": "stdout",
     "output_type": "stream",
     "text": [
      "8\n",
      "2\n",
      "1\n",
      "a:b:c:d\n",
      "이것은 소리없는 아우성\n",
      " HOBBY \n",
      " hobby \n",
      " hoBBy \n",
      "hoBBy\n"
     ]
    }
   ],
   "source": [
    "## 문자열 함수\n",
    "a = \"cocacola\"\n",
    "# 문자열 길이구하는 함수 : len()\n",
    "result = len(a); print(result)\n",
    "result = a.count(\"co\"); print(result)\n",
    "result = a.find(\"o\"); print(result) # 찾은 요소의 index번호 알려줌\n",
    "\n",
    "a= \":\"\n",
    "b= \"abcd\"\n",
    "result = a.join(b); print(result)\n",
    "\n",
    "a = [\"이것은\",\"소리없는\",\"아우성\"]\n",
    "b = \" \"\n",
    "result = b.join(a); print(result)\n",
    "\n",
    "a = \" hoBBy \"\n",
    "print(a.upper()) #대문자\n",
    "print(a.lower()) #소문자\n",
    "print(a)\n",
    "print(a.strip()) # 앞과 뒤의 공백을 제거해준다 \n"
   ]
  },
  {
   "cell_type": "code",
   "execution_count": 13,
   "metadata": {},
   "outputs": [
    {
     "name": "stdout",
     "output_type": "stream",
     "text": [
      "나는 사과를 3개 가지고 있어요\n",
      "나는 사과를 three개 가지고 있어요\n",
      "사과를 5개, 바나나 3개 가지고있어요\n",
      "사과를 3개, 바나나 5개 가지고있어요\n"
     ]
    }
   ],
   "source": [
    "#출력 양식을 설정할 때 formatting 이용\n",
    "# apple = 10\n",
    "# a = \"사과가 %d개 있어요!2\" %apple # %d 정수형 포맷팅! 설정\n",
    "# print(a)\n",
    "\n",
    "a = \"나는 사과를 {}개 가지고 있어요\".format(\"3\") #포맷안의 숫자로 중괄호 안을 대체\n",
    "print(a)\n",
    "a = \"나는 사과를 {}개 가지고 있어요\".format(\"three\") #문자형 상관 없다.\n",
    "print(a)\n",
    "a = \"사과를 {1}개, 바나나 {0}개 가지고있어요\".format(3,5) #중괄호 안에 index번호\n",
    "print(a)\n",
    "a = \"사과를 {var1}개, 바나나 {var2}개 가지고있어요\".format(var1=3,var2=5)\n",
    "print(a)\n",
    "\n",
    "# Numeric (정수 , 실수), str\n",
    "#########################여기까지가 기본 데이터 타입#############################################\n",
    "\n",
    "#이후에는 자료구조에 대한 이야기를 해보자ㅏㅏㅏㅏ"
   ]
  },
  {
   "cell_type": "code",
   "execution_count": null,
   "metadata": {},
   "outputs": [],
   "source": [
    "# Sequence Type\n",
    "# list (Python의 가장 기본적인 자료구조)\n",
    "# 임의의 객체를 순차적으로 저장하는 구조\n",
    "# R에서의 벡터와 같이 1차원 선형구조지만 다른점은 다양한 타입이 들어올수 있음 (숫자 ,문자 등)\n",
    "# 기호로는 []를 이용\n",
    "myList = list() # 비어잇는 list를 생성\n",
    "myList = [] # list를 literal로 표현\n",
    "myList = [1,2,3] # 3개의 값을 가지는 list를 생성\n",
    "myList = [1,3.14,True,\"아우성!!\"] # 모든 데이터 타입을 다 저장가능\n",
    "myList = [10,[\"Show\",\"me\",\"the\",\"money\"],3.14,True]\n",
    "# List안에 또 다른 자료구조들을 넣을 수 있어요\n",
    "print(myList[2])\n",
    "print(myList[1][3])\n",
    "print(myList[-1])\n",
    "print(myList[0:1]) # 0이상 1미만 이므로 0번째만, slicing결과는 원본자료구조와 동일\n",
    "print(myList[1][2:]) # ['the', 'money']\n",
    "\n",
    "# List의 연산\n",
    "# a = [1,2,3]\n",
    "# b = [4,5,6]\n",
    "# print(a+b) # R에서 c()함수와 동일\n",
    "# print(a*3)\n",
    "\n",
    "a = [1,2,3]\n",
    "# a[0] = 5  # 5,2,3\n",
    "# a[1:] = [] # [7] 뒤쪽 비우기\n",
    "# a[0:1] = [7,8,9] # [7,8,9,2,3]\n",
    "# a[0] = [7,8,9]\n",
    "del a[1]\n",
    "print(a)\n"
   ]
  },
  {
   "cell_type": "code",
   "execution_count": null,
   "metadata": {},
   "outputs": [],
   "source": [
    "# list에 적용할 수 있는 함수\n",
    "a = [1,2,3]\n",
    "# a.append(\"Hello\")\n",
    "# a.append([4,5,6]) # List의 맨 마지막칸을 생성하고 그안에 데이터를 저장  => [1, 2, 3, [4, 5, 6]]\n",
    "# a.extend([4,5,6]) # List를 확장 => [1, 2, 3, 4, 5, 6]\n",
    "# print(a)\n",
    "\n",
    "a = [7,3,9,4,6,1,8]\n",
    "# List를 정렬(오름차순, 내림차순)\n",
    "result = a.sort() # 일반적으로 (a 는 불변, result는 정렬된 결과)처럼 인식, 그러나 틀림\n",
    "print(result) # None\n",
    "print(a) # 원본이 바뀜\n",
    "# 따라서\n",
    "a.sort() # 이렇게 사용함 변수 생성할 필요 X , list가 가지고 잇는 함수\n",
    "result = sorted(a) # python이 제공하는 함수 원본 불변\n",
    "print(result)\n",
    "\n",
    "a = [\"Hello\",\"kaka\",\"World\",\"haha\"]\n",
    "a.sort() # 정렬의 기본은 오름차순\n",
    "         # 문자일 경우 ASKII 코드를 기반으로 정렬\n",
    "print(a)\n",
    "\n",
    "a = [\"홍길동\",\"최길동\",\"아이유\",\"김연아\",\"신사임당\"]\n",
    "a.sort(reverse=True) # 내림차순 정렬\n",
    "print(a)\n",
    "\n",
    "a = [1,2,3,4,5]\n",
    "# print(a.index(2)) # 2를 찾은다음 찾은 위치를 return\n",
    "# a.insert(0,\"Hello\") # 0번째 자리에 Hello를 삽입\n",
    "# a.remove(3)           # 첫번째로 발견한 요소(3)를 삭제 \n",
    "# print(a.pop()) # 맨 마지막 요소를 뜨어옴\n",
    "# print(a.pop(2)) # 지정한 위치의 요소를 뜯어옴\n",
    "# print(a)\n",
    "\n",
    "a = [1,2,3,4,5,1,2,1,3,4]\n",
    "print(a.count(1)) # 1이 몇개냐 list안에 내가 찾으려는 요소가 몇개가 있는지를 return\n",
    "\n",
    "####################################################################################################\n",
    "a = 100 # 메모리 상에 100과 그 주소가 만들어지고  a=100의 주소 라고 입력됨\n",
    "print(id(a)) #189753504 이게 100의 주소임 (달라질수 있음)\n",
    "\n",
    "a = [1,2,3]\n",
    "b = [1,2,3]\n",
    "# 메모리상에 [1,2,3]이 2개가 만들어지고 둘의 주소값은 다름\n",
    "# id(a) 와 id(b)는 다름\n",
    "print(a == b) # a와 b의 내용이 같니? True\n",
    "# 그런데\n",
    "print(a is b) # a와 b가 완전히 똑같니? False 둘의 주소값이 다름\n",
    "\n",
    "a =[1,2,3]\n",
    "b = a # a안의 [1,2,3]의 주소를 복사\n",
    "# 따라서\n",
    "print(a is b) #True\n",
    "\n",
    "b = a[:] # 얘는 b = [1,2,3] 을 입력한것과 동일\n",
    "print(a == b) # True\n",
    "print(a is b) # False"
   ]
  },
  {
   "cell_type": "code",
   "execution_count": null,
   "metadata": {},
   "outputs": [],
   "source": [
    "\n"
   ]
  },
  {
   "cell_type": "code",
   "execution_count": null,
   "metadata": {},
   "outputs": [],
   "source": []
  },
  {
   "cell_type": "code",
   "execution_count": 1,
   "metadata": {},
   "outputs": [],
   "source": [
    "## python\n",
    "## 1. 환경설정\n",
    "##    -PyCharm IDE를 이용해서 개발\n",
    "##     여러명이 같은 파일, 같은 프로젝트를 공유하면서 개발할 때 유리\n",
    "##     Interactive한 개발은 힘들다\n",
    "##     함수명을 변수로설정하면 함수의 기능이 없어진다!(주의!!!) sum = 1000\n",
    "##     만약에 이렇게 변수를 설정하면 껐다가 다시 키자\n",
    "##     데이터분석 작업보다는  Web개발이나 다른 application작성\n",
    "##    -jupyter Notebook\n",
    "##     Interactive한 개발이 가능해서 데이터 분석에 대한 학습이나 실제 분석작업을 많이 한다.\n",
    "##     여러명이 공도작업할 때는 불편!\n",
    "## 2. jupyter notebook 사용방법\n",
    "##    -cell 생성, cell안의 코드 실행방법\n",
    "##    -cell 삭제\n",
    "##    -무한루프가 되면 실행 interrupt 눌러라"
   ]
  },
  {
   "cell_type": "code",
   "execution_count": 6,
   "metadata": {},
   "outputs": [
    {
     "data": {
      "text/plain": [
       "6"
      ]
     },
     "execution_count": 6,
     "metadata": {},
     "output_type": "execute_result"
    }
   ],
   "source": [
    "a = [1,2,3]\n",
    "sum(a)"
   ]
  },
  {
   "cell_type": "code",
   "execution_count": 3,
   "metadata": {},
   "outputs": [
    {
     "name": "stdout",
     "output_type": "stream",
     "text": [
      "100\n"
     ]
    }
   ],
   "source": [
    "print(a)"
   ]
  }
 ],
 "metadata": {
  "kernelspec": {
   "display_name": "[CPU_ENV]",
   "language": "python",
   "name": "cpu_env"
  },
  "language_info": {
   "codemirror_mode": {
    "name": "ipython",
    "version": 3
   },
   "file_extension": ".py",
   "mimetype": "text/x-python",
   "name": "python",
   "nbconvert_exporter": "python",
   "pygments_lexer": "ipython3",
   "version": "3.6.9"
  }
 },
 "nbformat": 4,
 "nbformat_minor": 2
}
